{
 "cells": [
  {
   "cell_type": "markdown",
   "id": "0ce37ed4-a455-403e-872e-2c88b336f1ed",
   "metadata": {},
   "source": [
    "# Medway Polling station locations"
   ]
  },
  {
   "cell_type": "code",
   "execution_count": null,
   "id": "db172cb5-702f-4436-a285-e264a522dad7",
   "metadata": {},
   "outputs": [],
   "source": [
    "# https://www.medway.gov.uk/downloads/file/8737/polling_station_locations_for_general_election_2024"
   ]
  },
  {
   "cell_type": "code",
   "execution_count": null,
   "id": "aced2da8-1922-45b0-95af-c6aa949b43d7",
   "metadata": {},
   "outputs": [],
   "source": [
    "# !pip install geopandas"
   ]
  },
  {
   "cell_type": "code",
   "execution_count": null,
   "id": "957fb8b3-72fd-4ac4-9bda-e701c5ca0f96",
   "metadata": {},
   "outputs": [],
   "source": [
    "import pandas as pd\n",
    "import geopandas as gpd\n",
    "import os\n",
    "import requests\n",
    "import time\n",
    "import json\n",
    "from glob import glob\n",
    "import math"
   ]
  },
  {
   "cell_type": "code",
   "execution_count": null,
   "id": "879eaa27-9e82-441c-aa06-596c3d71bfe6",
   "metadata": {},
   "outputs": [],
   "source": [
    "def get_coordinate_from_file(row):\n",
    "    # print(row)\n",
    "    address = json.load(open(f\"data/address_to_coord/{row['STATION NO.']}.json\"))\n",
    "    if len(address) > 0:\n",
    "        row['longitude'] = math.ceil((float(address[0]['lon']) * 1e6)) / 1e6\n",
    "        row['latitude'] =  math.ceil((float(address[0]['lat']) * 1e6)) / 1e6\n",
    "    return row\n",
    "\n",
    "df_polling_stations = (\n",
    "    pd.concat([\n",
    "        pd.read_excel('data/Polling_station_locations.xlsx', skiprows=0, header=3, nrows=39).assign(**{'constituancy': 'Chatham and Aylesford'}),\n",
    "        pd.read_excel('data/Polling_station_locations.xlsx', header=46, nrows=29).assign(**{'constituancy': 'Gillingham and Rainham'}),\n",
    "        pd.read_excel('data/Polling_station_locations.xlsx', header=79, nrows=46).assign(**{'constituancy': 'Rochester and Strood'})\n",
    "    ], axis=0)\n",
    "    .assign(**{'POLLING STATION': lambda _df: _df[\"POLLING STATION\"].ffill()})\n",
    "    .apply(get_coordinate_from_file, axis=1)\n",
    ")\n",
    "    \n",
    "        \n",
    "\n",
    "df_polling_stations.to_csv('data/polling_stations_2024.csv', index=False)"
   ]
  },
  {
   "cell_type": "code",
   "execution_count": null,
   "id": "fe760fe4-f5ba-447c-8e40-016c5262d8dd",
   "metadata": {},
   "outputs": [],
   "source": [
    "\"\"\"TODO: GET API KEY FROM SECRETS FILE\"\"\"\n",
    "\n",
    "\n",
    "def get_address(row):\n",
    "    \n",
    "    path_address = f\"data/address_to_coord/{row['STATION NO.']}.json\"\n",
    "    print(path_address)\n",
    "    if os.path.exists(path_address):\n",
    "        print('Address already exists - skipping file')\n",
    "    else:        \n",
    "        # Try dropping first part of address\n",
    "        address = ','.join(row['POLLING STATION'].split(',')[4:]).strip()\n",
    "        \n",
    "        url = f\"https://geocode.maps.co/search?q={address}&api_key={api_key}\"        \n",
    "        result = requests.get(url)\n",
    "        \n",
    "        print(result.json())\n",
    "            \n",
    "        # Cache data\n",
    "        with open(path_address, 'w', encoding='utf-8') as f:\n",
    "            json.dump(result.json(), f)\n",
    "        \n",
    "        # raise KeyboardInterrupt\n",
    "\n",
    "        \n",
    "        time.sleep(3)\n",
    "\n",
    "\n",
    "df_polling_stations.apply(get_address, axis=1)"
   ]
  },
  {
   "cell_type": "code",
   "execution_count": null,
   "id": "9b9f7b00-df8d-46d9-88b3-7e03e2a1d24d",
   "metadata": {},
   "outputs": [],
   "source": [
    "# Delete emptyp address files\n",
    "def delete_empty_address_files():\n",
    "    for path_file in glob('data/address_to_coord/*.json'):\n",
    "        address = json.load(open(path_file))\n",
    "\n",
    "        if len(address) == 0:\n",
    "            print(f'removing {path_file}')\n",
    "            os.remove(path_file)\n",
    "    \n",
    "delete_empty_address_files()\n"
   ]
  },
  {
   "cell_type": "code",
   "execution_count": null,
   "id": "3f41784c-fdd7-4145-a10c-2ac1a399bf25",
   "metadata": {},
   "outputs": [],
   "source": [
    "\n"
   ]
  }
 ],
 "metadata": {
  "kernelspec": {
   "display_name": "Python 3 (ipykernel)",
   "language": "python",
   "name": "python3"
  },
  "language_info": {
   "codemirror_mode": {
    "name": "ipython",
    "version": 3
   },
   "file_extension": ".py",
   "mimetype": "text/x-python",
   "name": "python",
   "nbconvert_exporter": "python",
   "pygments_lexer": "ipython3",
   "version": "3.10.6"
  }
 },
 "nbformat": 4,
 "nbformat_minor": 5
}
